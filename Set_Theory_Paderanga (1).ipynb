{
 "cells": [
  {
   "cell_type": "markdown",
   "id": "8d32a625",
   "metadata": {},
   "source": [
    "# Proving Identities\n",
    "\n",
    "$1. $ $ A \\backslash B$ = $ A \\cap B^c$"
   ]
  },
  {
   "cell_type": "markdown",
   "id": "3e3eac02",
   "metadata": {},
   "source": [
    "Solution #1\n",
    "\n",
    "Left Side:\n",
    "\n",
    "if $ z \\in A $ then  $z \\in B^c $ therefore $ z \\in A \\backslash B$\n",
    "\n",
    "\n",
    "The set $ A \\backslash B$ is a proper subset of $ A \\cap B^c$ denoted as $ A \\backslash B \\subseteq A \\cap B^c$\n",
    "\n",
    "Right Side:\n",
    "\n",
    "if $y \\in A $ then $y \\in B^c $ therefore $ y \\in A \\cap B^c $\n",
    "\n",
    "The set $ A \\cap B^c$ is a proper subset of $ A \\backslash B$ denoted as $ A \\cap B^c \\subseteq A \\backslash B$\n",
    "\n",
    "Since we have proven both $ A \\backslash B \\subseteq A \\cap B^c$ and $ A \\cap B^C \\subseteq A \\backslash B$,\n",
    "\n",
    "We can conclude that $ A \\backslash B = A \\cap B^c$ holds true when there exists x such that $ x \\in A \\land x \\in B$\n"
   ]
  },
  {
   "cell_type": "markdown",
   "id": "1ccfac82",
   "metadata": {},
   "source": [
    "$2. $ $B = $ $(B \\cap A) $ $ \\cup $ $ ( B \\cap A^c) $"
   ]
  },
  {
   "cell_type": "markdown",
   "id": "89935b24",
   "metadata": {},
   "source": [
    "Solution #2\n",
    "\n",
    "Left Side: \n",
    "\n",
    "if $x \\in A $, then $ x \\in B\\cap A$, so x belongs to $(B \\cap A) \\cup (B \\cap A^c)$\n",
    "\n",
    "if $x \\in A^c$, then $x \\in B \\cap A^c$, so x belongs to $(B \\cap A) \\cup (B \\cap A^c)$\n",
    "\n",
    "therefore $B \\subseteq $ $(B \\cap A)$ $ \\cup $ $ (B \\cap A^c) $\n",
    "\n",
    "Right Side:\n",
    "\n",
    "if y $\\in B$, then $ y \\in B \\cap A$, so y belong to B\n",
    "\n",
    "if y $\\in B$, then $ y \\in B \\cap A^c$, so y belong to B\n",
    "\n",
    "therefore $(B \\cap A) \\cup (B \\cap A^c) \\subseteq B $\n",
    "\n",
    "We can conclude that $B =(B \\cap A)$ $ \\cup $ $ (B \\cap A^c) $ holds true when there exist x such that $x \\in A \\land x \\in B$"
   ]
  },
  {
   "cell_type": "markdown",
   "id": "e2f116bb",
   "metadata": {},
   "source": [
    "$3. $ $ B \\backslash A $$ = $$ B \\cap A^c $"
   ]
  },
  {
   "cell_type": "markdown",
   "id": "cf07e429",
   "metadata": {},
   "source": [
    "Solution #3\n",
    "\n",
    "Left Side:\n",
    "\n",
    "if $x \\in B $ and $x \\in A^c $, then $x \\in B \\backslash A$, so x also belong to $B \\cap A^c$\n",
    "\n",
    "therefore $ B \\backslash A = B \\cap A^c$\n",
    "\n",
    "\n",
    "Right Side:\n",
    "\n",
    "if $ y \\in B $ and $ y \\in A^c $, then $ y \\in B \\cap A^c $, so y also belong to $ B \\backslash A $\n",
    "\n",
    "therefore $ B \\cap A^c = B \\backslash A$\n",
    "\n",
    "We can conclude that $ B \\backslash A $$ = $$ B \\cap A^c $ holds true when there exist such that $ x \\in A \\land x \\in B$\n",
    "\n",
    "\n",
    "\n",
    "    "
   ]
  },
  {
   "cell_type": "markdown",
   "id": "dd79d983",
   "metadata": {},
   "source": [
    "$4.  $ $A \\cup B = A \\cup (B \\cup A^c)$"
   ]
  },
  {
   "cell_type": "markdown",
   "id": "f3e3223c",
   "metadata": {},
   "source": [
    "Solution #4\n",
    "\n",
    "Left Side:\n",
    "\n",
    "if $x \\in A$, then x belongs to $A \\cup (B \\cup A^c)$\n",
    "\n",
    "if $x \\in B$, then $x \\in B \\cup A^c$ so x belongs to $A \\cup (B \\cup A^c)$\n",
    "\n",
    "therefore $A \\cup B \\subseteq A \\cup (B \\cup A^c)$\n",
    "\n",
    "Right Side:\n",
    "\n",
    "if $y \\in A$ then $y \\in  A \\cup B$\n",
    "\n",
    "if $y \\in B \\cup A^c$  then y also belongs to $y \\in A \\cup B$\n",
    "\n",
    "therefore $A \\cup (B \\cup A^c) \\subseteq A \\cup B$ \n",
    "\n",
    "We can conclude that $A \\cup B = A \\cup (B \\cup A^c)$ holds true when there exist such that $ x \\in A \\land x \\in B$\n"
   ]
  },
  {
   "cell_type": "markdown",
   "id": "8a5f7bfd",
   "metadata": {},
   "source": [
    "$5.$ $(\\cup^\\infty_{i=1} A^c_i)^c$ = $\\cap^\\infty_{i=1} A_i$"
   ]
  },
  {
   "cell_type": "markdown",
   "id": "d707b341",
   "metadata": {},
   "source": [
    "De Morgan's Law for unions says that $X^{c^c}$ = X therefore\n",
    "\n",
    "$(\\cup^\\infty_{i=1} A^c_i)^c$, the Original Set itself is the complement of a completement, which is $\\cap^\\infty_{i=1} A_i$"
   ]
  },
  {
   "cell_type": "markdown",
   "id": "5b5f127a",
   "metadata": {},
   "source": [
    "$6.$ $|A \\cup B| = |A| + |B| - |A \\cap B|$"
   ]
  },
  {
   "cell_type": "markdown",
   "id": "d25e56db",
   "metadata": {},
   "source": [
    "if $|A| + |B|$ then it is equal to $ |A \\cup B| $ but $|A| + |B|$ is double counted\n",
    "\n",
    "subtract $|A \\cap B|$ so that double counting can be corrected\n",
    "\n",
    "For Example:\n",
    "\n",
    "$|A|$ = 20 (Basketball Players)\n",
    "\n",
    "$|B|$ = 15 (Football Players)\n",
    "\n",
    "$|A \\cap B|$ = 8(Basketball and Football Players)\n",
    "\n",
    "$|A \\cup B| = |A| + |B|$ this counts players who are playing both sports\n",
    "\n",
    "$|A \\cup B|$ = $|A| + |B|$ - $|A \\cap B|$ this counts players who are either playing only basketball or football\n",
    "\n",
    "therefore $|A \\cup B|$ =  20 + 15 - 8 = 27\n"
   ]
  },
  {
   "cell_type": "markdown",
   "id": "8c372c9d",
   "metadata": {},
   "source": [
    "# Sets and Subsets"
   ]
  },
  {
   "cell_type": "markdown",
   "id": "e156d7d1",
   "metadata": {},
   "source": [
    "$1.$ If A = {2,3,4,5}, and B = {$x \\in \\mathbb{N} | x \\ is \\ even$}. Is A $\\subset$ B"
   ]
  },
  {
   "cell_type": "markdown",
   "id": "744b33dd",
   "metadata": {},
   "source": [
    "Proof:\n",
    "\n",
    "$ if x \\in A$ then x $is \\in A \\cap B$\n",
    "\n",
    "if A = {2,3,4,5} and B = {2,4,6...10} then $A \\cap B$ = {2,4} \n",
    "\n",
    "therefore $A \\subset B$\n",
    "\n",
    "    "
   ]
  },
  {
   "cell_type": "markdown",
   "id": "8beea7fa",
   "metadata": {},
   "source": [
    "$2.$ Let sets $\\textbf{A} = \\{x|x \\in \\mathbb{Z}, 0 \\leq x \\leq 9\\},\n",
    "\\textbf{B} = \\{ 2,4,6,8\\},\n",
    "\\ and \\ \n",
    "\\textbf{C}  = \\{ 1,3,5,7,9\\}\n",
    "\\ and \\ \\textbf{D}  = \\{ 3,4,5\\}$\n",
    "Find a set $\\textbf{X}$ which will satisfy the following conditions:<br>\n",
    "    1. $\\textbf{X} \\ and \\ \\textbf{B}$ are disjoint.<br>\n",
    "    2. $\\textbf{X} \\subseteq \\textbf{D}$ but $\\textbf{X} \\nsubseteq \\textbf{B}$.<br>\n",
    "    3. $\\textbf{X} \\subseteq \\textbf{A}$ but $\\textbf{X} \\not\\subset \\textbf{C}$.<br>"
   ]
  },
  {
   "cell_type": "markdown",
   "id": "589d2a80",
   "metadata": {},
   "source": [
    "Proof: \n",
    "\n",
    "Given:<br> \n",
    "$\\textbf{A} = \\{x|x \\in \\mathbb{Z}, 0 \\leq x \\leq 9\\}$,<br>\n",
    "$\\textbf{B} = \\{ 2,4,6,8\\}$,<br>\n",
    "$\\textbf{C}  = \\{ 1,3,5,7,9\\}$,<br>\n",
    "$\\textbf{D}  = \\{ 3,4,5\\}$<br>\n",
    "$\\textbf{X} = \\{3,5,0,1,7,9\\}$<br>\n",
    "\n",
    "1. If X = {} and X is not present in B then X are disjoint\n",
    "\n",
    "2. If X = {3,5} and X is present in D and not present in B therefore X $\\subseteq$ D but X $\\nsubseteq$ B\n",
    "\n",
    "3. If X = {0,1,7,9} then X is subset of A but not a subset of C therefore X $\\subseteq$ A but X $\\nsubseteq$ C\n"
   ]
  },
  {
   "cell_type": "markdown",
   "id": "63714968",
   "metadata": {},
   "source": [
    "# Set Operations"
   ]
  },
  {
   "cell_type": "markdown",
   "id": "7502d66b",
   "metadata": {},
   "source": [
    "Given:<br>\n",
    "$U = \\{1,2,3,4,5\\}$<br>\n",
    "$A = \\{1,2,3,4,5\\}$<br>\n",
    "$B = \\{4,5,6,7\\}$<br>\n",
    "$C = \\{5,6,7,8,9\\}$<br>\n",
    "$D = \\{1,3,5,7,9\\}$<br>\n",
    "$E = \\{2,4,6,8\\}$<br>\n",
    "$F = \\{1,5,9\\}$<br>\n",
    "\n",
    "* $C \\oplus D$\n",
    "* $A \\backslash B$\n",
    "* $B \\backslash A$\n",
    "* $E \\oplus F$\n",
    "\n",
    "\n",
    "    \n",
    "    "
   ]
  },
  {
   "cell_type": "markdown",
   "id": "d7b6b6b0",
   "metadata": {},
   "source": [
    "# Manual Solutions"
   ]
  },
  {
   "cell_type": "markdown",
   "id": "1f54a012",
   "metadata": {},
   "source": [
    "1. $C = \\{5,6,7,8,9\\} \\oplus D = \\{1,3,5,7,9\\}$\n",
    "\n",
    "Solution:\n",
    "\n",
    "$C \\oplus D = \\{6,8,1,3\\}$\n",
    "\n",
    "$\\********************************\\$\n",
    "\n",
    "2. $A = \\{1,2,3,4,5\\} \\backslash B = \\{4,5,6,7\\}$\n",
    "\n",
    "Solution:\n",
    "\n",
    "$A \\backslash B = \\{1,2,3\\}$\n",
    "\n",
    "$\\********************************\\$\n",
    "\n",
    "3. $B = \\{4,5,6,7\\} \\backslash A = \\{1,2,3,4,5\\}$\n",
    "\n",
    "Solution:\n",
    "\n",
    "$B \\backslash A = \\{6,7\\}$\n",
    "\n",
    "$\\********************************\\$\n",
    "\n",
    "4. $E = \\{2,4,6,8\\} \\oplus F = \\{1,5,9\\}$\n",
    "\n",
    "Solution:\n",
    "\n",
    "$E \\oplus F = \\{2,4,6,8,1,5,9\\}$\n",
    "\n",
    "$\\********************************\\$"
   ]
  },
  {
   "cell_type": "markdown",
   "id": "cd7e2f5e",
   "metadata": {},
   "source": [
    "# Python Solutions"
   ]
  },
  {
   "cell_type": "code",
   "execution_count": 87,
   "id": "ea6df8ad",
   "metadata": {},
   "outputs": [
    {
     "name": "stdout",
     "output_type": "stream",
     "text": [
      "1.) C ⊕ D = {1, 3, 6, 8}\n",
      "2.) A \\ B = {1, 2, 3}\n",
      "3.) B \\ A = {6, 7}\n",
      "4.) E ⊕ F = {1, 2, 4, 5, 6, 8, 9}\n"
     ]
    }
   ],
   "source": [
    "U = {1,2,3,4,5}\n",
    "A = {1,2,3,4,5}\n",
    "B = {4,5,6,7}\n",
    "C = {5,6,7,8,9}\n",
    "D = {1,3,5,7,9}\n",
    "E = {2,4,6,8}\n",
    "F = {1,5,9}\n",
    "circled_plus = \"⊕\"\n",
    "\n",
    "result1 = C.symmetric_difference(D)\n",
    "\n",
    "result2 = A.difference(B)\n",
    "\n",
    "result3 = B.difference(A)\n",
    "\n",
    "result4 = E.symmetric_difference(F)\n",
    "\n",
    "print(\"1.) C\", circled_plus, \"D =\", result1)\n",
    "print(\"2.) A \\ B =\",result2)\n",
    "print(\"3.) B \\ A =\", result3)\n",
    "print(\"4.) E\", circled_plus, \"F =\", result4)\n"
   ]
  },
  {
   "cell_type": "markdown",
   "id": "365b2b43",
   "metadata": {},
   "source": [
    "# Finite Sets and The Counting Principles"
   ]
  },
  {
   "cell_type": "code",
   "execution_count": 94,
   "id": "7b8e80a3",
   "metadata": {},
   "outputs": [
    {
     "data": {
      "image/png": "[encoded data removed]",
      "text/plain": [
       "<Figure size 640x480 with 1 Axes>"
      ]
     },
     "metadata": {},
     "output_type": "display_data"
    },
    {
     "name": "stdout",
     "output_type": "stream",
     "text": [
      "2. Number of people who read at least one magazine: 100\n",
      "3. Number of people who read exactly one magazine: 40\n"
     ]
    }
   ],
   "source": [
    "total_people = 120\n",
    "read_newsweek = 65\n",
    "read_times = 45\n",
    "read_fortune = 42\n",
    "read_newsweek_and_times = 20\n",
    "read_newsweek_and_fortune = 25\n",
    "read_times_and_fortune = 15\n",
    "read_all_three = 8\n",
    "\n",
    "at_least_one = (\n",
    "    read_newsweek + read_times + read_fortune\n",
    "    - read_newsweek_and_times - read_newsweek_and_fortune - read_times_and_fortune\n",
    "    + read_all_three\n",
    ")\n",
    "\n",
    "exactly_one = (\n",
    "    (read_newsweek - read_newsweek_and_times - read_newsweek_and_fortune + read_all_three)\n",
    "    + (read_times - read_newsweek_and_times - read_times_and_fortune + read_all_three)\n",
    "    + (read_fortune - read_newsweek_and_fortune - read_times_and_fortune + read_all_three)\n",
    "    - 2 * read_all_three  \n",
    ")\n",
    "\n",
    "venn = venn3(\n",
    "    subsets=(\n",
    "        read_newsweek - read_newsweek_and_times - read_newsweek_and_fortune + read_all_three,\n",
    "        read_times - read_newsweek_and_times - read_times_and_fortune + read_all_three,\n",
    "        read_times_and_fortune - read_all_three,\n",
    "        read_fortune - read_newsweek_and_fortune - read_times_and_fortune + read_all_three,\n",
    "        read_newsweek_and_times - read_all_three,\n",
    "        read_newsweek_and_fortune - read_all_three,\n",
    "        read_all_three,\n",
    "    ),\n",
    "    set_labels=(\"Newsweek\", \"Times\", \"Fortune\"),\n",
    ")\n",
    "\n",
    "plt.title(\"Venn Diagram of Magazine Readership\")\n",
    "plt.show()\n",
    "\n",
    "print(\"2. Number of people who read at least one magazine:\", at_least_one)\n",
    "print(\"3. Number of people who read exactly one magazine:\", exactly_one)\n"
   ]
  },
  {
   "cell_type": "code",
   "execution_count": 89,
   "id": "4ed94938",
   "metadata": {},
   "outputs": [
    {
     "data": {
      "image/png": "[encoded data removed]",
      "text/plain": [
       "<Figure size 640x480 with 1 Axes>"
      ]
     },
     "metadata": {},
     "output_type": "display_data"
    },
    {
     "name": "stdout",
     "output_type": "stream",
     "text": [
      "Number of cars with W only: 5\n",
      "Number of cars with A only: 4\n",
      "Number of cars with R only: 2\n",
      "Number of cars with both R and W but not A: 1\n",
      "Number of cars with both A and R but not W: 6\n",
      "Number of cars with only one of the options: 11\n",
      "Number of cars with at least one option: 23\n",
      "Number of cars with none of the options: 2\n"
     ]
    }
   ],
   "source": [
    "A = 15\n",
    "R = 12\n",
    "W = 11\n",
    "AW = 5\n",
    "AR = 9\n",
    "RW = 4\n",
    "ARW = 3\n",
    "\n",
    "venn = venn3(subsets=(A, R, AR, W, AW, RW, ARW), set_labels=('A', 'R', 'W'))\n",
    "\n",
    "venn.get_label_by_id('100').set_text(A - AR - AW + ARW)\n",
    "venn.get_label_by_id('010').set_text(R - AR - RW + ARW)\n",
    "venn.get_label_by_id('001').set_text(W - AW - RW + ARW)\n",
    "venn.get_label_by_id('110').set_text(AR - ARW)\n",
    "venn.get_label_by_id('101').set_text(AW - ARW)\n",
    "venn.get_label_by_id('011').set_text(RW - ARW)\n",
    "venn.get_label_by_id('111').set_text(ARW)\n",
    "\n",
    "plt.title(\"Car Options Venn Diagram\")\n",
    "plt.show()\n",
    "\n",
    "W_only = W - AW - RW + ARW\n",
    "print(f\"Number of cars with W only: {W_only}\")\n",
    "\n",
    "A_only = A - AR - AW + ARW\n",
    "print(f\"Number of cars with A only: {A_only}\")\n",
    "\n",
    "R_only = R - AR - RW + ARW\n",
    "print(f\"Number of cars with R only: {R_only}\")\n",
    "\n",
    "RW_not_A = RW - ARW\n",
    "print(f\"Number of cars with both R and W but not A: {RW_not_A}\")\n",
    "\n",
    "AR_not_W = AR - ARW\n",
    "print(f\"Number of cars with both A and R but not W: {AR_not_W}\")\n",
    "\n",
    "only_one_option = A_only + R_only + W_only\n",
    "print(f\"Number of cars with only one of the options: {only_one_option}\")\n",
    "\n",
    "at_least_one_option = A + R + W - AR - AW - RW + ARW\n",
    "print(f\"Number of cars with at least one option: {at_least_one_option}\")\n",
    "\n",
    "none_of_the_options = 25 - at_least_one_option\n",
    "print(f\"Number of cars with none of the options: {none_of_the_options}\")"
   ]
  },
  {
   "cell_type": "code",
   "execution_count": 92,
   "id": "abcf503b",
   "metadata": {},
   "outputs": [
    {
     "data": {
      "image/png": "[encoded data removed]",
      "text/plain": [
       "<Figure size 640x480 with 1 Axes>"
      ]
     },
     "metadata": {},
     "output_type": "display_data"
    },
    {
     "name": "stdout",
     "output_type": "stream",
     "text": [
      "2. Number of people who read at least one magazine: 100\n",
      "3. Number of people who read exactly one magazine: 56\n"
     ]
    }
   ],
   "source": [
    "total_people = 120\n",
    "read_newsweek = 65\n",
    "read_times = 45\n",
    "read_fortune = 42\n",
    "read_newsweek_and_times = 20\n",
    "read_newsweek_and_fortune = 25\n",
    "read_times_and_fortune = 15\n",
    "read_all_three = 8\n",
    "\n",
    "# Calculate the number of people who read at least one magazine\n",
    "at_least_one = (\n",
    "    read_newsweek + read_times + read_fortune\n",
    "    - read_newsweek_and_times - read_newsweek_and_fortune - read_times_and_fortune\n",
    "    + read_all_three\n",
    ")\n",
    "\n",
    "# Calculate the number of people who read exactly one magazine\n",
    "exactly_one = (\n",
    "    read_newsweek - read_newsweek_and_times - read_newsweek_and_fortune + read_all_three\n",
    ") + (\n",
    "    read_times - read_newsweek_and_times - read_times_and_fortune + read_all_three\n",
    ") + (\n",
    "    read_fortune - read_newsweek_and_fortune - read_times_and_fortune + read_all_three\n",
    ")\n",
    "\n",
    "# Create a Venn diagram\n",
    "venn = venn3(\n",
    "    subsets=(\n",
    "        read_newsweek - read_newsweek_and_times - read_newsweek_and_fortune + read_all_three,\n",
    "        read_times - read_newsweek_and_times - read_times_and_fortune + read_all_three,\n",
    "        read_times_and_fortune - read_all_three,\n",
    "        read_fortune - read_newsweek_and_fortune - read_times_and_fortune + read_all_three,\n",
    "        read_newsweek_and_times - read_all_three,\n",
    "        read_newsweek_and_fortune - read_all_three,\n",
    "        read_all_three,\n",
    "    ),\n",
    "    set_labels=(\"Newsweek\", \"Times\", \"Fortune\"),\n",
    ")\n",
    "\n",
    "# Display the Venn diagram\n",
    "plt.title(\"Venn Diagram of Magazine Readership\")\n",
    "plt.show()\n",
    "\n",
    "# Answering the questions\n",
    "print(\"2. Number of people who read at least one magazine:\", at_least_one)\n",
    "print(\"3. Number of people who read exactly one magazine:\", exactly_one)"
   ]
  },
  {
   "cell_type": "code",
   "execution_count": null,
   "id": "2a37e281",
   "metadata": {},
   "outputs": [],
   "source": []
  }
 ],
 "metadata": {
  "kernelspec": {
   "display_name": "Python 3 (ipykernel)",
   "language": "python",
   "name": "python3"
  },
  "language_info": {
   "codemirror_mode": {
    "name": "ipython",
    "version": 3
   },
   "file_extension": ".py",
   "mimetype": "text/x-python",
   "name": "python",
   "nbconvert_exporter": "python",
   "pygments_lexer": "ipython3",
   "version": "3.11.4"
  }
 },
 "nbformat": 4,
 "nbformat_minor": 5
}
